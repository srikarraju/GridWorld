{
  "nbformat": 4,
  "nbformat_minor": 0,
  "metadata": {
    "colab": {
      "provenance": [],
      "authorship_tag": "ABX9TyMnGJC8SA1KfJYBKWZXP7jN",
      "include_colab_link": true
    },
    "kernelspec": {
      "name": "python3",
      "display_name": "Python 3"
    },
    "language_info": {
      "name": "python"
    }
  },
  "cells": [
    {
      "cell_type": "markdown",
      "metadata": {
        "id": "view-in-github",
        "colab_type": "text"
      },
      "source": [
        "<a href=\"https://colab.research.google.com/github/srikarraju/GridWorld/blob/main/TRPO.ipynb\" target=\"_parent\"><img src=\"https://colab.research.google.com/assets/colab-badge.svg\" alt=\"Open In Colab\"/></a>"
      ]
    },
    {
      "cell_type": "code",
      "metadata": {
        "id": "sEX4IsN4_HMU"
      },
      "source": [
        "import torch.nn as nn\n",
        "import torch.nn.functional as F\n",
        "\n",
        "class PolicyNetwork(nn.Module):\n",
        "  def __init__(self,state_dim,hidden_dim,action_dim):\n",
        "    super(PolicyNetwork,self).__init__()\n",
        "    self.hidden = nn.Linear(state_dim,hidden_dim)\n",
        "    self.out = nn.Linear(hidden_dim,action_dim)\n",
        "\n",
        "  def forward(self,x):\n",
        "    x = F.relu(self.hidden(x))\n",
        "    x = F.softmax(self.out(x),dim=1)\n",
        "    return x\n",
        "\n",
        "class ValueNetwork(nn.Module):\n",
        "  def __init__(self,state_dim,hidden_dim):\n",
        "    super(ValueNetwork,self).__init__()\n",
        "    self.hidden = nn.Linear(state_dim,hidden_dim)\n",
        "    self.out = nn.Linear(hidden_dim,1)\n",
        "\n",
        "  def forward(self,x):\n",
        "    x = F.relu(self.hidden(x))\n",
        "    x = self.out(x)\n",
        "    return x"
      ],
      "execution_count": null,
      "outputs": []
    },
    {
      "cell_type": "code",
      "metadata": {
        "id": "KYmRMxWjDfkh"
      },
      "source": [
        "import gym\n",
        "import torch\n",
        "\n",
        "env = gym.make('CartPole-v0')\n",
        "\n",
        "state_dim = env.observation_space.shape[0]\n",
        "hidden_dim = 50\n",
        "action_dim = env.action_space.n\n",
        "\n",
        "policy = PolicyNetwork(state_dim,hidden_dim,action_dim)\n",
        "value_fn = ValueNetwork(state_dim,hidden_dim)\n",
        "\n",
        "optimizer_pol = torch.optim.Adam(policy.parameters())\n",
        "optimizer_val_fn = torch.optim.Adam(value_fn.parameters())\n",
        "gamma = 0.99"
      ],
      "execution_count": null,
      "outputs": []
    },
    {
      "cell_type": "code",
      "metadata": {
        "id": "3GduRY97GMcl"
      },
      "source": [
        "from torch.distributions import Categorical\n",
        "\n",
        "max_episodes = 5000\n",
        "n_episode = 0\n",
        "while n_episode < max_episodes:\n",
        "  state = env.reset()\n",
        "  rewards, states,actions = [], [], []\n",
        "  V_curr_state, V_next_state = [],[]\n",
        "  advantage_estimates = []\n",
        "  while True:\n",
        "    action_probs = policy(torch.tensor(state))\n",
        "    V_curr_state.append(value_fn(torch.tensor(state)).numpy()[0])\n",
        "    sampler = Categorical(probs)\n",
        "    curr_action = sampler.sample()\n",
        "    new_state, reward, done, info = env.step(curr_action)\n",
        "\n",
        "    V_next_state.append(value_fn(torch.tensor(V_next_state)).numpy()[0])\n",
        "\n",
        "    advantage_estimates.append(reward + value_fn(torch.tensor(V_next_state)).numpy()[0] - value_fn(torch.tensor(state)).numpy()[0])\n",
        "\n",
        "    states.append(state)\n",
        "    rewards.append(reward)\n",
        "    actions.append(curr_action)\n",
        "\n",
        "    state = new_state\n",
        "    if done == True:\n",
        "      break\n",
        "\n",
        "  advantage_estimates = torch.tensor(advantage_estimates)\n",
        "\n",
        "  states = torch.tensor(states)\n",
        "  probs = policy(states)\n",
        "  sampler = Categorical(probs)\n",
        "  logprobs = -sampler.log_prob(actions)\n",
        "\n",
        "  actor_loss = torch.sum(logprobs*advantage_estimates)\n",
        "\n",
        ""
      ],
      "execution_count": null,
      "outputs": []
    }
  ]
}