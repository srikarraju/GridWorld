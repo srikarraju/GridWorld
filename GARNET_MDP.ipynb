{
  "nbformat": 4,
  "nbformat_minor": 0,
  "metadata": {
    "colab": {
      "provenance": [],
      "authorship_tag": "ABX9TyPKBhE0Qetw0Hca1QGZUkNH",
      "include_colab_link": true
    },
    "kernelspec": {
      "display_name": "Python 3",
      "name": "python3"
    },
    "language_info": {
      "name": "python"
    }
  },
  "cells": [
    {
      "cell_type": "markdown",
      "metadata": {
        "id": "view-in-github",
        "colab_type": "text"
      },
      "source": [
        "<a href=\"https://colab.research.google.com/github/srikarraju/GridWorld/blob/main/GARNET_MDP.ipynb\" target=\"_parent\"><img src=\"https://colab.research.google.com/assets/colab-badge.svg\" alt=\"Open In Colab\"/></a>"
      ]
    },
    {
      "cell_type": "code",
      "metadata": {
        "id": "qvAbpQIj9FLh"
      },
      "source": [
        "num_states =  8\n",
        "num_actions = 3\n",
        "branching_factor = 2\n",
        "std_dev = 0.1\n",
        "deg_non_stat = 0"
      ],
      "execution_count": null,
      "outputs": []
    },
    {
      "cell_type": "code",
      "metadata": {
        "colab": {
          "base_uri": "https://localhost:8080/"
        },
        "id": "bbtgdadC9dGI",
        "outputId": "4118fba2-de7b-47b2-fe8a-b7710edc6291"
      },
      "source": [
        "import numpy as np\n",
        "from numpy.random import default_rng\n",
        "\n",
        "rng = default_rng()\n",
        "possible_next_states = []\n",
        "for i in range(num_states):\n",
        "  state_next_states = []\n",
        "  for j in range(num_actions):\n",
        "    next_states = rng.choice(num_states, size=branching_factor, replace=False)\n",
        "    state_next_states.append(next_states[:])\n",
        "  possible_next_states.append(state_next_states)\n",
        "\n",
        "possible_next_states = np.asarray(possible_next_states)\n",
        "print(possible_next_states.shape)\n",
        "\n",
        "trans_probs = []\n",
        "\n",
        "for i in range(num_states):\n",
        "  state_probs = []\n",
        "  for j in range(num_actions):\n",
        "    intervals = np.random.uniform(size = branching_factor - 1)\n",
        "    #print(intervals)\n",
        "    intervals.sort()\n",
        "    state_action_probs = []\n",
        "    state_action_probs.append(intervals[0])\n",
        "    for k in range(branching_factor-2):\n",
        "      state_action_probs.append(intervals[k+1]-intervals[k])\n",
        "    state_action_probs.append(1 - intervals[branching_factor - 2])\n",
        "    state_probs.append(state_action_probs)\n",
        "  trans_probs.append(state_probs)\n",
        "\n",
        "trans_probs = np.asarray(trans_probs)\n",
        "print(trans_probs.shape)\n",
        "\n",
        "rewards_mean = []\n",
        "\n",
        "for i in range(num_states):\n",
        "  state_rewards = []\n",
        "  for j in range(num_actions):\n",
        "    state_action_rewards = []\n",
        "    for k in range(branching_factor):\n",
        "      state_action_rewards.append(np.random.normal(0,1))\n",
        "    state_rewards.append(state_action_rewards)\n",
        "  rewards_mean.append(state_rewards)\n",
        "\n",
        "rewards_mean = np.asarray(rewards_mean)\n",
        "print(rewards_mean.shape)\n",
        "\n",
        "def take_action(state,action):\n",
        "  next_possible_states = possible_next_states[state][action]\n",
        "  next_state_probs = trans_probs[state][action]\n",
        "\n",
        "  #print(next_possible_states,next_state_probs)\n",
        "\n",
        "  next_state_index = np.random.choice(a = np.arange(branching_factor), p = next_state_probs)\n",
        "  next_state = possible_next_states[state][action][next_state_index]\n",
        "  reward_mean = rewards_mean[state][action][next_state_index]\n",
        "\n",
        "  #print(reward_mean)\n",
        "\n",
        "  actual_reward = np.random.normal(reward_mean,std_dev)\n",
        "\n",
        "  return next_state, reward_mean\n",
        "\n",
        "print(take_action(2,1))"
      ],
      "execution_count": null,
      "outputs": [
        {
          "output_type": "stream",
          "text": [
            "(8, 3, 2)\n",
            "(8, 3, 2)\n",
            "(8, 3, 2)\n",
            "(7, 0.8548946850351196)\n"
          ],
          "name": "stdout"
        }
      ]
    },
    {
      "cell_type": "code",
      "metadata": {
        "id": "zdeDbIFCvphJ"
      },
      "source": [
        "import numpy as np\n",
        "from numpy.random import default_rng\n",
        "\n",
        "rng = default_rng()\n",
        "\n",
        "def generate_state_features(num_states,d,l):\n",
        "  state_features = []\n",
        "  product_dict = {}\n",
        "  while len(state_features) < num_states:\n",
        "    one_indices = rng.choice(d, size = l, replace=False)\n",
        "    product = 1\n",
        "    for i in range(l):\n",
        "      product *= one_indices[i]\n",
        "    feature_vec = np.zeros(d)\n",
        "    if product not in product_dict:\n",
        "      for index in one_indices:\n",
        "        feature_vec[index] = 1\n",
        "      state_features.append(feature_vec)\n",
        "      product_dict[product] = 1\n",
        "  #print(len(product_dict))\n",
        "  return state_features\n",
        "\n",
        "#print(np.asarray(generate_state_features(num_states,8,3)))"
      ],
      "execution_count": null,
      "outputs": []
    },
    {
      "cell_type": "code",
      "metadata": {
        "id": "IEsHVSbH4nYz"
      },
      "source": [
        "def generate_state_action_features(state_vec, d, num_actions):\n",
        "  state_action_features = np.zeros(shape=(num_actions,d*num_actions))\n",
        "  for i in range(num_actions):\n",
        "    for j in range(d):\n",
        "      state_action_features[i][d*i+j] = state_vec[j]\n",
        "  return state_action_features\n",
        "\n",
        "#print(generate_state_action_features([1,0,0,1,0,0,1,1],8,4))"
      ],
      "execution_count": null,
      "outputs": []
    },
    {
      "cell_type": "code",
      "metadata": {
        "id": "O5DrzYCjcskG"
      },
      "source": [
        "import torch\n",
        "import torch.nn as nn\n",
        "import torch.nn.functional as F\n",
        "from torch.distributions import Categorical\n",
        "import gym\n",
        "from collections import deque\n",
        "import numpy as np"
      ],
      "execution_count": null,
      "outputs": []
    },
    {
      "cell_type": "code",
      "metadata": {
        "colab": {
          "base_uri": "https://localhost:8080/"
        },
        "id": "d1A5HeAldTci",
        "outputId": "eff22142-7bb5-44c1-840a-34176ee155ce"
      },
      "source": [
        "returns = deque(maxlen=100)\n",
        "\n",
        "d, l = 8, 3\n",
        "\n",
        "weights_v = np.zeros(d,dtype=float)\n",
        "weights_p = np.zeros(d*num_actions,dtype=float)\n",
        "rewards2 = []\n",
        "\n",
        "print(weights_v)\n",
        "print(weights_p)"
      ],
      "execution_count": null,
      "outputs": [
        {
          "output_type": "stream",
          "text": [
            "[0. 0. 0. 0. 0. 0. 0. 0.]\n",
            "[0. 0. 0. 0. 0. 0. 0. 0. 0. 0. 0. 0. 0. 0. 0. 0. 0. 0. 0. 0. 0. 0. 0. 0.]\n"
          ],
          "name": "stdout"
        }
      ]
    },
    {
      "cell_type": "code",
      "metadata": {
        "id": "Li2iufLOfgkX",
        "colab": {
          "base_uri": "https://localhost:8080/"
        },
        "outputId": "6d0fc1f8-7814-4b98-bf31-a582ec907205"
      },
      "source": [
        "#ALGORITHM 1\n",
        "alpha_0, beta_0, gamma, epsilon = 0.1, 0.01, 0.95, 0.1\n",
        "alpha_c, beta_c = 1000, 100000\n",
        "t = 0\n",
        "n_episode = 1\n",
        "actions_list = []\n",
        "avg_reward = 0\n",
        "\n",
        "state_features = generate_state_features(num_states,d,l)\n",
        "\n",
        "while n_episode <=10000:\n",
        "  rewards,states,actions = [],[],[]\n",
        "  state = 0\n",
        "\n",
        "  episode_len = 0\n",
        "  while episode_len<=50:\n",
        "    episode_len += 1\n",
        "    state_action_features = generate_state_action_features(state_features[state],d,num_actions)\n",
        "    t += 1\n",
        "\n",
        "    probs = np.dot(weights_p,np.transpose(state_action_features))\n",
        "    probs -= probs.max()\n",
        "    probs = np.exp(np.clip(probs/epsilon, -500, 500))\n",
        "    probs /= probs.sum()\n",
        "    probs2 = probs.cumsum()\n",
        "    action = np.where(probs2 >= np.random.random())[0][0]\n",
        "\n",
        "    new_state, reward = take_action(state,action)\n",
        "\n",
        "    value_curr = np.dot(weights_v,np.asarray(state_features[state]))\n",
        "    value_next = np.dot(weights_v,np.asarray(state_features[new_state]))\n",
        "\n",
        "    beta = (beta_0 * beta_c) / (beta_c + n_episode)\n",
        "    alpha = (alpha_0 * alpha_c) / (alpha_c + n_episode**(2/3))\n",
        "\n",
        "    avg_reward = (1 - alpha*gamma)*avg_reward + alpha*gamma * reward\n",
        "    td_error = reward + value_next - value_curr - avg_reward\n",
        "\n",
        "    weights_v += 0.005*alpha * (abs(td_error)/td_error) * np.asarray(state_features[state])\n",
        "    weights_p += 0.005*beta * (abs(td_error)/td_error) * probs[action] * (1 - probs[action]) * state_action_features[action]\n",
        "\n",
        "\n",
        "    states.append(state)\n",
        "    actions.append(action)\n",
        "    rewards.append(reward)\n",
        "    actions_list.append(action)\n",
        "\n",
        "    state = new_state\n",
        "\n",
        "  returns.append(np.sum(rewards))\n",
        "  #print(np.sum(rewards))\n",
        "  if n_episode%100==0:\n",
        "    print(\"Episode: {:6d}\\tAvg. Return: {:6.2f}\".format(n_episode, np.mean(returns)))\n",
        "  rewards1.append(np.mean(returns))\n",
        "  n_episode += 1"
      ],
      "execution_count": null,
      "outputs": [
        {
          "output_type": "stream",
          "text": [
            "Episode:    100\tAvg. Return:  11.95\n",
            "Episode:    200\tAvg. Return:  13.78\n",
            "Episode:    300\tAvg. Return:  14.72\n",
            "Episode:    400\tAvg. Return:  17.47\n",
            "Episode:    500\tAvg. Return:  17.26\n",
            "Episode:    600\tAvg. Return:  18.41\n",
            "Episode:    700\tAvg. Return:  21.70\n",
            "Episode:    800\tAvg. Return:  21.91\n",
            "Episode:    900\tAvg. Return:  25.21\n",
            "Episode:   1000\tAvg. Return:  25.17\n",
            "Episode:   1100\tAvg. Return:  26.80\n",
            "Episode:   1200\tAvg. Return:  27.95\n",
            "Episode:   1300\tAvg. Return:  28.09\n",
            "Episode:   1400\tAvg. Return:  28.78\n",
            "Episode:   1500\tAvg. Return:  31.60\n",
            "Episode:   1600\tAvg. Return:  30.56\n",
            "Episode:   1700\tAvg. Return:  33.35\n",
            "Episode:   1800\tAvg. Return:  32.05\n",
            "Episode:   1900\tAvg. Return:  34.41\n",
            "Episode:   2000\tAvg. Return:  34.46\n",
            "Episode:   2100\tAvg. Return:  35.55\n",
            "Episode:   2200\tAvg. Return:  36.93\n",
            "Episode:   2300\tAvg. Return:  36.44\n",
            "Episode:   2400\tAvg. Return:  37.34\n",
            "Episode:   2500\tAvg. Return:  38.51\n",
            "Episode:   2600\tAvg. Return:  38.21\n",
            "Episode:   2700\tAvg. Return:  38.39\n",
            "Episode:   2800\tAvg. Return:  38.89\n",
            "Episode:   2900\tAvg. Return:  38.53\n",
            "Episode:   3000\tAvg. Return:  39.71\n",
            "Episode:   3100\tAvg. Return:  39.75\n",
            "Episode:   3200\tAvg. Return:  39.50\n",
            "Episode:   3300\tAvg. Return:  40.37\n",
            "Episode:   3400\tAvg. Return:  40.68\n",
            "Episode:   3500\tAvg. Return:  40.96\n",
            "Episode:   3600\tAvg. Return:  41.29\n",
            "Episode:   3700\tAvg. Return:  41.99\n",
            "Episode:   3800\tAvg. Return:  39.99\n",
            "Episode:   3900\tAvg. Return:  40.91\n",
            "Episode:   4000\tAvg. Return:  41.09\n",
            "Episode:   4100\tAvg. Return:  42.06\n",
            "Episode:   4200\tAvg. Return:  41.90\n",
            "Episode:   4300\tAvg. Return:  41.70\n",
            "Episode:   4400\tAvg. Return:  41.89\n",
            "Episode:   4500\tAvg. Return:  42.36\n",
            "Episode:   4600\tAvg. Return:  42.27\n",
            "Episode:   4700\tAvg. Return:  42.23\n",
            "Episode:   4800\tAvg. Return:  42.33\n",
            "Episode:   4900\tAvg. Return:  42.70\n",
            "Episode:   5000\tAvg. Return:  41.82\n",
            "Episode:   5100\tAvg. Return:  42.61\n",
            "Episode:   5200\tAvg. Return:  42.17\n",
            "Episode:   5300\tAvg. Return:  41.73\n",
            "Episode:   5400\tAvg. Return:  42.56\n",
            "Episode:   5500\tAvg. Return:  42.06\n",
            "Episode:   5600\tAvg. Return:  42.72\n",
            "Episode:   5700\tAvg. Return:  43.04\n",
            "Episode:   5800\tAvg. Return:  43.72\n",
            "Episode:   5900\tAvg. Return:  42.60\n",
            "Episode:   6000\tAvg. Return:  42.76\n",
            "Episode:   6100\tAvg. Return:  43.74\n",
            "Episode:   6200\tAvg. Return:  43.35\n",
            "Episode:   6300\tAvg. Return:  42.96\n",
            "Episode:   6400\tAvg. Return:  43.44\n",
            "Episode:   6500\tAvg. Return:  44.24\n",
            "Episode:   6600\tAvg. Return:  44.75\n",
            "Episode:   6700\tAvg. Return:  43.97\n",
            "Episode:   6800\tAvg. Return:  43.24\n",
            "Episode:   6900\tAvg. Return:  44.15\n",
            "Episode:   7000\tAvg. Return:  44.27\n",
            "Episode:   7100\tAvg. Return:  43.91\n",
            "Episode:   7200\tAvg. Return:  44.36\n",
            "Episode:   7300\tAvg. Return:  44.30\n",
            "Episode:   7400\tAvg. Return:  44.71\n",
            "Episode:   7500\tAvg. Return:  43.25\n",
            "Episode:   7600\tAvg. Return:  44.37\n",
            "Episode:   7700\tAvg. Return:  43.45\n",
            "Episode:   7800\tAvg. Return:  44.18\n",
            "Episode:   7900\tAvg. Return:  43.95\n",
            "Episode:   8000\tAvg. Return:  44.27\n",
            "Episode:   8100\tAvg. Return:  44.87\n",
            "Episode:   8200\tAvg. Return:  44.56\n",
            "Episode:   8300\tAvg. Return:  44.65\n",
            "Episode:   8400\tAvg. Return:  44.46\n",
            "Episode:   8500\tAvg. Return:  44.54\n",
            "Episode:   8600\tAvg. Return:  44.96\n",
            "Episode:   8700\tAvg. Return:  43.87\n",
            "Episode:   8800\tAvg. Return:  44.86\n",
            "Episode:   8900\tAvg. Return:  45.52\n",
            "Episode:   9000\tAvg. Return:  44.61\n",
            "Episode:   9100\tAvg. Return:  44.72\n",
            "Episode:   9200\tAvg. Return:  44.92\n",
            "Episode:   9300\tAvg. Return:  44.71\n",
            "Episode:   9400\tAvg. Return:  44.38\n",
            "Episode:   9500\tAvg. Return:  44.37\n",
            "Episode:   9600\tAvg. Return:  44.68\n",
            "Episode:   9700\tAvg. Return:  44.84\n",
            "Episode:   9800\tAvg. Return:  44.75\n",
            "Episode:   9900\tAvg. Return:  45.21\n",
            "Episode:  10000\tAvg. Return:  45.27\n"
          ],
          "name": "stdout"
        }
      ]
    },
    {
      "cell_type": "code",
      "metadata": {
        "colab": {
          "base_uri": "https://localhost:8080/",
          "height": 265
        },
        "id": "yDK9pttjasZs",
        "outputId": "72356b2e-487f-403e-906f-41898d2074a8"
      },
      "source": [
        "import matplotlib.pyplot as plt\n",
        "plt.plot(rewards1[20000:])\n",
        "plt.show()"
      ],
      "execution_count": null,
      "outputs": [
        {
          "output_type": "display_data",
          "data": {
            "image/png": "[encoded data removed]",
            "text/plain": [
              "<Figure size 432x288 with 1 Axes>"
            ]
          },
          "metadata": {
            "tags": [],
            "needs_background": "light"
          }
        }
      ]
    },
    {
      "cell_type": "code",
      "metadata": {
        "id": "t_CDAvOJ9FbI",
        "colab": {
          "base_uri": "https://localhost:8080/",
          "height": 775
        },
        "outputId": "5e919149-5d43-4888-e300-e67e7e3c8b3d"
      },
      "source": [
        "weights_w = np.zeros(d*num_actions,dtype=float)\n",
        "\n",
        "alpha_0, beta_0, gamma, epsilon = 0.1, 0.01, 0.95, 0.1\n",
        "alpha_c, beta_c = 1000, 100000\n",
        "t = 0\n",
        "n_episode = 1\n",
        "actions_list = []\n",
        "avg_reward = 0\n",
        "state_features = generate_state_features(num_states,d,l)\n",
        "\n",
        "while n_episode <=10000:\n",
        "  rewards,states,actions = [],[],[]\n",
        "  state = 0\n",
        "  episode_len = 0\n",
        "  while episode_len<=50:\n",
        "    episode_len += 1\n",
        "    state_action_features = generate_state_action_features(state_features[state],d,num_actions)\n",
        "    t += 1\n",
        "\n",
        "    probs = np.dot(weights_p,np.transpose(state_action_features))\n",
        "\n",
        "    probs -= probs.max()\n",
        "    probs = np.exp(np.clip(probs/epsilon, -500, 500))\n",
        "    probs /= probs.sum()\n",
        "    probs2 = probs.cumsum()\n",
        "    action = np.where(probs2 >= np.random.random())[0][0]\n",
        "\n",
        "    new_state, reward = take_action(state,action)\n",
        "\n",
        "    value_curr = np.dot(weights_v,np.asarray(state_features[state]))\n",
        "    value_next = np.dot(weights_v,np.asarray(state_features[new_state]))\n",
        "\n",
        "    beta = (beta_0 * beta_c) / (beta_c + t)\n",
        "    alpha = (alpha_0 * alpha_c) / (alpha_c + t**(2/3))\n",
        "\n",
        "    avg_reward = (1 - alpha*gamma)*avg_reward + alpha*gamma * reward\n",
        "    td_error = reward + value_next - value_curr - avg_reward\n",
        "\n",
        "    weights_v += alpha * td_error * np.asarray(state_features[state])\n",
        "\n",
        "    grad_prob = (1 - probs[action]) * np.asarray(state_action_features[action])\n",
        "\n",
        "    weights_w = np.dot(np.eye(grad_prob.size) - alpha * np.outer(grad_prob, grad_prob), weights_w)\n",
        "    weights_w += alpha * td_error * grad_prob\n",
        "    weights_p += 0.1*beta * weights_w\n",
        "\n",
        "    states.append(state)\n",
        "    actions.append(action)\n",
        "    rewards.append(reward)\n",
        "    actions_list.append(action)\n",
        "\n",
        "    state = new_state\n",
        "  returns.append(np.sum(rewards))\n",
        "  #print(np.sum(rewards))\n",
        "  if n_episode%50==0:\n",
        "    print(\"Episode: {:6d}\\tAvg. Return: {:6.2f}\".format(n_episode, np.mean(returns)))\n",
        "  rewards2.append(np.mean(returns))\n",
        "  n_episode += 1"
      ],
      "execution_count": null,
      "outputs": [
        {
          "output_type": "stream",
          "text": [
            "Episode:     50\tAvg. Return:  46.36\n",
            "Episode:    100\tAvg. Return:  48.80\n",
            "Episode:    150\tAvg. Return:  50.67\n",
            "Episode:    200\tAvg. Return:  49.94\n",
            "Episode:    250\tAvg. Return:  50.18\n",
            "Episode:    300\tAvg. Return:  49.89\n",
            "Episode:    350\tAvg. Return:  49.32\n",
            "Episode:    400\tAvg. Return:  49.58\n",
            "Episode:    450\tAvg. Return:  50.71\n",
            "Episode:    500\tAvg. Return:  50.97\n",
            "Episode:    550\tAvg. Return:  50.29\n",
            "Episode:    600\tAvg. Return:  49.96\n",
            "Episode:    650\tAvg. Return:  50.29\n",
            "Episode:    700\tAvg. Return:  50.04\n",
            "Episode:    750\tAvg. Return:  49.87\n",
            "Episode:    800\tAvg. Return:  50.27\n",
            "Episode:    850\tAvg. Return:  49.78\n",
            "Episode:    900\tAvg. Return:  49.69\n",
            "Episode:    950\tAvg. Return:  50.55\n",
            "Episode:   1000\tAvg. Return:  50.52\n",
            "Episode:   1050\tAvg. Return:  49.11\n",
            "Episode:   1100\tAvg. Return:  49.98\n",
            "Episode:   1150\tAvg. Return:  51.58\n"
          ],
          "name": "stdout"
        },
        {
          "output_type": "error",
          "ename": "KeyboardInterrupt",
          "evalue": "ignored",
          "traceback": [
            "\u001b[0;31m---------------------------------------------------------------------------\u001b[0m",
            "\u001b[0;31mKeyboardInterrupt\u001b[0m                         Traceback (most recent call last)",
            "\u001b[0;32m<ipython-input-74-7c86a51dfdd5>\u001b[0m in \u001b[0;36m<module>\u001b[0;34m()\u001b[0m\n\u001b[1;32m     41\u001b[0m     \u001b[0mgrad_prob\u001b[0m \u001b[0;34m=\u001b[0m \u001b[0;34m(\u001b[0m\u001b[0;36m1\u001b[0m \u001b[0;34m-\u001b[0m \u001b[0mprobs\u001b[0m\u001b[0;34m[\u001b[0m\u001b[0maction\u001b[0m\u001b[0;34m]\u001b[0m\u001b[0;34m)\u001b[0m \u001b[0;34m*\u001b[0m \u001b[0mnp\u001b[0m\u001b[0;34m.\u001b[0m\u001b[0masarray\u001b[0m\u001b[0;34m(\u001b[0m\u001b[0mstate_action_features\u001b[0m\u001b[0;34m[\u001b[0m\u001b[0maction\u001b[0m\u001b[0;34m]\u001b[0m\u001b[0;34m)\u001b[0m\u001b[0;34m\u001b[0m\u001b[0;34m\u001b[0m\u001b[0m\n\u001b[1;32m     42\u001b[0m \u001b[0;34m\u001b[0m\u001b[0m\n\u001b[0;32m---> 43\u001b[0;31m     \u001b[0mweights_w\u001b[0m \u001b[0;34m=\u001b[0m \u001b[0mnp\u001b[0m\u001b[0;34m.\u001b[0m\u001b[0mdot\u001b[0m\u001b[0;34m(\u001b[0m\u001b[0mnp\u001b[0m\u001b[0;34m.\u001b[0m\u001b[0meye\u001b[0m\u001b[0;34m(\u001b[0m\u001b[0mgrad_prob\u001b[0m\u001b[0;34m.\u001b[0m\u001b[0msize\u001b[0m\u001b[0;34m)\u001b[0m \u001b[0;34m-\u001b[0m \u001b[0malpha\u001b[0m \u001b[0;34m*\u001b[0m \u001b[0mnp\u001b[0m\u001b[0;34m.\u001b[0m\u001b[0mouter\u001b[0m\u001b[0;34m(\u001b[0m\u001b[0mgrad_prob\u001b[0m\u001b[0;34m,\u001b[0m \u001b[0mgrad_prob\u001b[0m\u001b[0;34m)\u001b[0m\u001b[0;34m,\u001b[0m \u001b[0mweights_w\u001b[0m\u001b[0;34m)\u001b[0m\u001b[0;34m\u001b[0m\u001b[0;34m\u001b[0m\u001b[0m\n\u001b[0m\u001b[1;32m     44\u001b[0m     \u001b[0mweights_w\u001b[0m \u001b[0;34m+=\u001b[0m \u001b[0malpha\u001b[0m \u001b[0;34m*\u001b[0m \u001b[0mtd_error\u001b[0m \u001b[0;34m*\u001b[0m \u001b[0mgrad_prob\u001b[0m\u001b[0;34m\u001b[0m\u001b[0;34m\u001b[0m\u001b[0m\n\u001b[1;32m     45\u001b[0m     \u001b[0mweights_p\u001b[0m \u001b[0;34m+=\u001b[0m \u001b[0;36m0.1\u001b[0m\u001b[0;34m*\u001b[0m\u001b[0mbeta\u001b[0m \u001b[0;34m*\u001b[0m \u001b[0mweights_w\u001b[0m\u001b[0;34m\u001b[0m\u001b[0;34m\u001b[0m\u001b[0m\n",
            "\u001b[0;32m<__array_function__ internals>\u001b[0m in \u001b[0;36mouter\u001b[0;34m(*args, **kwargs)\u001b[0m\n",
            "\u001b[0;32m/usr/local/lib/python3.7/dist-packages/numpy/core/numeric.py\u001b[0m in \u001b[0;36mouter\u001b[0;34m(a, b, out)\u001b[0m\n\u001b[1;32m    907\u001b[0m     \u001b[0ma\u001b[0m \u001b[0;34m=\u001b[0m \u001b[0masarray\u001b[0m\u001b[0;34m(\u001b[0m\u001b[0ma\u001b[0m\u001b[0;34m)\u001b[0m\u001b[0;34m\u001b[0m\u001b[0;34m\u001b[0m\u001b[0m\n\u001b[1;32m    908\u001b[0m     \u001b[0mb\u001b[0m \u001b[0;34m=\u001b[0m \u001b[0masarray\u001b[0m\u001b[0;34m(\u001b[0m\u001b[0mb\u001b[0m\u001b[0;34m)\u001b[0m\u001b[0;34m\u001b[0m\u001b[0;34m\u001b[0m\u001b[0m\n\u001b[0;32m--> 909\u001b[0;31m     \u001b[0;32mreturn\u001b[0m \u001b[0mmultiply\u001b[0m\u001b[0;34m(\u001b[0m\u001b[0ma\u001b[0m\u001b[0;34m.\u001b[0m\u001b[0mravel\u001b[0m\u001b[0;34m(\u001b[0m\u001b[0;34m)\u001b[0m\u001b[0;34m[\u001b[0m\u001b[0;34m:\u001b[0m\u001b[0;34m,\u001b[0m \u001b[0mnewaxis\u001b[0m\u001b[0;34m]\u001b[0m\u001b[0;34m,\u001b[0m \u001b[0mb\u001b[0m\u001b[0;34m.\u001b[0m\u001b[0mravel\u001b[0m\u001b[0;34m(\u001b[0m\u001b[0;34m)\u001b[0m\u001b[0;34m[\u001b[0m\u001b[0mnewaxis\u001b[0m\u001b[0;34m,\u001b[0m \u001b[0;34m:\u001b[0m\u001b[0;34m]\u001b[0m\u001b[0;34m,\u001b[0m \u001b[0mout\u001b[0m\u001b[0;34m)\u001b[0m\u001b[0;34m\u001b[0m\u001b[0;34m\u001b[0m\u001b[0m\n\u001b[0m\u001b[1;32m    910\u001b[0m \u001b[0;34m\u001b[0m\u001b[0m\n\u001b[1;32m    911\u001b[0m \u001b[0;34m\u001b[0m\u001b[0m\n",
            "\u001b[0;31mKeyboardInterrupt\u001b[0m: "
          ]
        }
      ]
    },
    {
      "cell_type": "code",
      "metadata": {
        "colab": {
          "base_uri": "https://localhost:8080/"
        },
        "id": "z5ycBLRoewHb",
        "outputId": "fb4478ee-eb73-4afa-85a7-62b58fdb6b91"
      },
      "source": [
        "returns = deque(maxlen=100)\n",
        "\n",
        "d, l = 8, 3\n",
        "\n",
        "weights_v = np.zeros(d,dtype=float)\n",
        "weights_p = np.zeros(d*num_actions,dtype=float)\n",
        "rewards2 = []\n",
        "\n",
        "print(weights_v)\n",
        "print(weights_p)"
      ],
      "execution_count": null,
      "outputs": [
        {
          "output_type": "stream",
          "text": [
            "[0. 0. 0. 0. 0. 0. 0. 0.]\n",
            "[0. 0. 0. 0. 0. 0. 0. 0. 0. 0. 0. 0. 0. 0. 0. 0. 0. 0. 0. 0. 0. 0. 0. 0.]\n"
          ],
          "name": "stdout"
        }
      ]
    },
    {
      "cell_type": "code",
      "metadata": {
        "colab": {
          "base_uri": "https://localhost:8080/",
          "height": 333
        },
        "id": "HT0UKHHJ3vWU",
        "outputId": "ed7db145-5bae-4d2c-f253-beeaff8d5cd2"
      },
      "source": [
        "#ALGORITHM 4\n",
        "weights_w = np.zeros(d*num_actions,dtype=float)\n",
        "\n",
        "alpha_0, beta_0, gamma, epsilon = 0.1, 0.01, 0.95, 0.1\n",
        "alpha_c, beta_c = 1000, 100000\n",
        "t = 0\n",
        "n_episode = 1\n",
        "actions_list = []\n",
        "avg_reward = 0\n",
        "state_features = generate_state_features(num_states,d,l)\n",
        "fischer_inv = 2.5*np.eye(d*num_actions)\n",
        "\n",
        "while n_episode <=10000:\n",
        "  rewards,states,actions = [],[],[]\n",
        "  state = 0\n",
        "  episode_len = 0\n",
        "  while episode_len<=50:\n",
        "    episode_len += 1\n",
        "    state_action_features = generate_state_action_features(state_features[state],d,num_actions)\n",
        "    t += 1\n",
        "\n",
        "    probs = np.dot(weights_p,np.transpose(state_action_features))\n",
        "\n",
        "    probs -= probs.max()\n",
        "    probs = np.exp(np.clip(probs/epsilon, -500, 500))\n",
        "    probs /= probs.sum()\n",
        "    probs2 = probs.cumsum()\n",
        "    action = np.where(probs2 >= np.random.random())[0][0]\n",
        "\n",
        "    new_state, reward = take_action(state,action)\n",
        "\n",
        "    value_curr = np.dot(weights_v,np.asarray(state_features[state]))\n",
        "    value_next = np.dot(weights_v,np.asarray(state_features[new_state]))\n",
        "\n",
        "    beta = (beta_0 * beta_c) / (beta_c + t)\n",
        "    alpha = (alpha_0 * alpha_c) / (alpha_c + t**(2/3))\n",
        "\n",
        "    avg_reward = (1 - alpha*gamma)*avg_reward + alpha*gamma * reward\n",
        "    td_error = reward + value_curr - value_next - avg_reward\n",
        "\n",
        "    weights_v += alpha * td_error * np.asarray(state_features[state])\n",
        "\n",
        "    grad_prob = (1-probs[action])*state_action_features[action]\n",
        "\n",
        "    Gt_psi_dot = np.dot(fischer_inv, grad_prob)\n",
        "    fischer_inv -= (0.001*alpha * np.outer(Gt_psi_dot,Gt_psi_dot) ) / (1 - 0.001*alpha + 0.001*alpha * np.dot(Gt_psi_dot,grad_prob))\n",
        "    fischer_inv /= (1 - 0.0001*alpha)\n",
        "    weights_w = (1- alpha) *weights_w + alpha* td_error * np.dot(fischer_inv,grad_prob)\n",
        "\n",
        "    weights_p += beta * weights_w\n",
        "\n",
        "    states.append(state)\n",
        "    actions.append(action)\n",
        "    rewards.append(reward)\n",
        "    actions_list.append(action)\n",
        "\n",
        "    state = new_state\n",
        "  returns.append(np.sum(rewards))\n",
        "  #print(np.sum(rewards))\n",
        "  if n_episode%100==0:\n",
        "    print(\"Episode: {:6d}\\tAvg. Return: {:6.2f}\".format(n_episode, np.mean(returns)))\n",
        "  n_episode += 1"
      ],
      "execution_count": null,
      "outputs": [
        {
          "output_type": "stream",
          "text": [
            "Episode:    100\tAvg. Return:  -6.74\n",
            "Episode:    200\tAvg. Return: -10.41\n",
            "Episode:    300\tAvg. Return: -12.43\n"
          ],
          "name": "stdout"
        },
        {
          "output_type": "stream",
          "text": [
            "/usr/local/lib/python3.7/dist-packages/ipykernel_launcher.py:39: RuntimeWarning: overflow encountered in double_scalars\n",
            "/usr/local/lib/python3.7/dist-packages/ipykernel_launcher.py:41: RuntimeWarning: invalid value encountered in multiply\n",
            "/usr/local/lib/python3.7/dist-packages/ipykernel_launcher.py:48: RuntimeWarning: invalid value encountered in multiply\n"
          ],
          "name": "stderr"
        },
        {
          "output_type": "error",
          "ename": "IndexError",
          "evalue": "ignored",
          "traceback": [
            "\u001b[0;31m---------------------------------------------------------------------------\u001b[0m",
            "\u001b[0;31mIndexError\u001b[0m                                Traceback (most recent call last)",
            "\u001b[0;32m<ipython-input-66-5b0522132766>\u001b[0m in \u001b[0;36m<module>\u001b[0;34m()\u001b[0m\n\u001b[1;32m     26\u001b[0m     \u001b[0mprobs\u001b[0m \u001b[0;34m/=\u001b[0m \u001b[0mprobs\u001b[0m\u001b[0;34m.\u001b[0m\u001b[0msum\u001b[0m\u001b[0;34m(\u001b[0m\u001b[0;34m)\u001b[0m\u001b[0;34m\u001b[0m\u001b[0;34m\u001b[0m\u001b[0m\n\u001b[1;32m     27\u001b[0m     \u001b[0mprobs2\u001b[0m \u001b[0;34m=\u001b[0m \u001b[0mprobs\u001b[0m\u001b[0;34m.\u001b[0m\u001b[0mcumsum\u001b[0m\u001b[0;34m(\u001b[0m\u001b[0;34m)\u001b[0m\u001b[0;34m\u001b[0m\u001b[0;34m\u001b[0m\u001b[0m\n\u001b[0;32m---> 28\u001b[0;31m     \u001b[0maction\u001b[0m \u001b[0;34m=\u001b[0m \u001b[0mnp\u001b[0m\u001b[0;34m.\u001b[0m\u001b[0mwhere\u001b[0m\u001b[0;34m(\u001b[0m\u001b[0mprobs2\u001b[0m \u001b[0;34m>=\u001b[0m \u001b[0mnp\u001b[0m\u001b[0;34m.\u001b[0m\u001b[0mrandom\u001b[0m\u001b[0;34m.\u001b[0m\u001b[0mrandom\u001b[0m\u001b[0;34m(\u001b[0m\u001b[0;34m)\u001b[0m\u001b[0;34m)\u001b[0m\u001b[0;34m[\u001b[0m\u001b[0;36m0\u001b[0m\u001b[0;34m]\u001b[0m\u001b[0;34m[\u001b[0m\u001b[0;36m0\u001b[0m\u001b[0;34m]\u001b[0m\u001b[0;34m\u001b[0m\u001b[0;34m\u001b[0m\u001b[0m\n\u001b[0m\u001b[1;32m     29\u001b[0m \u001b[0;34m\u001b[0m\u001b[0m\n\u001b[1;32m     30\u001b[0m     \u001b[0mnew_state\u001b[0m\u001b[0;34m,\u001b[0m \u001b[0mreward\u001b[0m \u001b[0;34m=\u001b[0m \u001b[0mtake_action\u001b[0m\u001b[0;34m(\u001b[0m\u001b[0mstate\u001b[0m\u001b[0;34m,\u001b[0m\u001b[0maction\u001b[0m\u001b[0;34m)\u001b[0m\u001b[0;34m\u001b[0m\u001b[0;34m\u001b[0m\u001b[0m\n",
            "\u001b[0;31mIndexError\u001b[0m: index 0 is out of bounds for axis 0 with size 0"
          ]
        }
      ]
    },
    {
      "cell_type": "code",
      "metadata": {
        "colab": {
          "base_uri": "https://localhost:8080/"
        },
        "id": "w1-REXDUnEz4",
        "outputId": "fa929a48-8c54-48f9-b6c2-890dab6bce0b"
      },
      "source": [
        "print(states)\n",
        "print(actions)\n",
        "print(rewards)"
      ],
      "execution_count": null,
      "outputs": [
        {
          "output_type": "stream",
          "text": [
            "[0, 3, 5]\n",
            "[2, 0, 0]\n",
            "[0.5217193225237641, 0.151378240040636, 5.079021754702377]\n"
          ],
          "name": "stdout"
        }
      ]
    },
    {
      "cell_type": "code",
      "metadata": {
        "colab": {
          "base_uri": "https://localhost:8080/"
        },
        "id": "UW5ZcQqJYaHR",
        "outputId": "4845f0a4-40fb-4f6b-9728-0bf748d6d9d7"
      },
      "source": [
        "print(rewards_mean)"
      ],
      "execution_count": null,
      "outputs": [
        {
          "output_type": "stream",
          "text": [
            "[[[-0.25061534  1.49539764]\n",
            "  [-0.30208198 -0.25410217]\n",
            "  [-0.81584873 -0.10771639]]\n",
            "\n",
            " [[-0.29835569  0.2072118 ]\n",
            "  [-0.04707335  0.70120915]\n",
            "  [-0.08716664 -1.5916152 ]]\n",
            "\n",
            " [[ 1.18149004  1.65736056]\n",
            "  [ 0.86636364  2.41890358]\n",
            "  [ 0.52071488  0.169385  ]]\n",
            "\n",
            " [[ 0.05366395  1.01816619]\n",
            "  [ 0.07552728 -0.87560103]\n",
            "  [-0.24413793 -1.38707909]]\n",
            "\n",
            " [[ 0.58504293 -0.48438896]\n",
            "  [ 0.20450839  0.01599129]\n",
            "  [ 0.35469568 -1.0449963 ]]\n",
            "\n",
            " [[ 0.13948531  0.06054098]\n",
            "  [-0.10047899  0.00675582]\n",
            "  [-0.25366147 -0.32085055]]\n",
            "\n",
            " [[ 1.9270511   1.44741449]\n",
            "  [-0.03075387 -1.1259968 ]\n",
            "  [ 0.49338175 -1.30633275]]\n",
            "\n",
            " [[-0.08173137 -1.79330266]\n",
            "  [-1.86448101  1.17835433]\n",
            "  [-0.56688518 -0.75269304]]]\n"
          ],
          "name": "stdout"
        }
      ]
    },
    {
      "cell_type": "code",
      "metadata": {
        "colab": {
          "base_uri": "https://localhost:8080/"
        },
        "id": "sT7XBvKHlsCB",
        "outputId": "4a4cd53a-9fe3-4708-8d86-3591d03eb8e9"
      },
      "source": [
        "print(possible_next_states)"
      ],
      "execution_count": null,
      "outputs": [
        {
          "output_type": "stream",
          "text": [
            "[[[2 5]\n",
            "  [3 6]\n",
            "  [7 3]]\n",
            "\n",
            " [[0 1]\n",
            "  [4 6]\n",
            "  [4 2]]\n",
            "\n",
            " [[0 3]\n",
            "  [0 1]\n",
            "  [6 7]]\n",
            "\n",
            " [[5 7]\n",
            "  [5 1]\n",
            "  [4 0]]\n",
            "\n",
            " [[2 5]\n",
            "  [0 3]\n",
            "  [1 6]]\n",
            "\n",
            " [[7 4]\n",
            "  [7 4]\n",
            "  [6 5]]\n",
            "\n",
            " [[2 1]\n",
            "  [6 0]\n",
            "  [1 2]]\n",
            "\n",
            " [[5 0]\n",
            "  [0 4]\n",
            "  [2 1]]]\n"
          ],
          "name": "stdout"
        }
      ]
    },
    {
      "cell_type": "code",
      "metadata": {
        "colab": {
          "base_uri": "https://localhost:8080/"
        },
        "id": "FBHYG4eOmAta",
        "outputId": "749daa03-40f2-4086-cb38-15047bad86df"
      },
      "source": [
        "print(trans_probs)"
      ],
      "execution_count": null,
      "outputs": [
        {
          "output_type": "stream",
          "text": [
            "[[[0.91225281 0.08774719]\n",
            "  [0.482354   0.517646  ]\n",
            "  [0.23483585 0.76516415]]\n",
            "\n",
            " [[0.05053881 0.94946119]\n",
            "  [0.93053987 0.06946013]\n",
            "  [0.45078013 0.54921987]]\n",
            "\n",
            " [[0.11012645 0.88987355]\n",
            "  [0.17111131 0.82888869]\n",
            "  [0.42087916 0.57912084]]\n",
            "\n",
            " [[0.80255451 0.19744549]\n",
            "  [0.66564375 0.33435625]\n",
            "  [0.03601308 0.96398692]]\n",
            "\n",
            " [[0.03296661 0.96703339]\n",
            "  [0.74041548 0.25958452]\n",
            "  [0.36689571 0.63310429]]\n",
            "\n",
            " [[0.50273818 0.49726182]\n",
            "  [0.53316924 0.46683076]\n",
            "  [0.63097928 0.36902072]]\n",
            "\n",
            " [[0.86964531 0.13035469]\n",
            "  [0.31619094 0.68380906]\n",
            "  [0.34287114 0.65712886]]\n",
            "\n",
            " [[0.28173449 0.71826551]\n",
            "  [0.35949537 0.64050463]\n",
            "  [0.94689102 0.05310898]]]\n"
          ],
          "name": "stdout"
        }
      ]
    },
    {
      "cell_type": "code",
      "metadata": {
        "id": "osRKTIhqGQ0D"
      },
      "source": [],
      "execution_count": null,
      "outputs": []
    }
  ]
}