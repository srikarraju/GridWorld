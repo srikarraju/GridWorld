{
  "nbformat": 4,
  "nbformat_minor": 0,
  "metadata": {
    "colab": {
      "provenance": [],
      "authorship_tag": "ABX9TyNWHVOdSipAW0vOC/UY1LH6",
      "include_colab_link": true
    },
    "kernelspec": {
      "name": "python3",
      "display_name": "Python 3"
    },
    "language_info": {
      "name": "python"
    }
  },
  "cells": [
    {
      "cell_type": "markdown",
      "metadata": {
        "id": "view-in-github",
        "colab_type": "text"
      },
      "source": [
        "<a href=\"https://colab.research.google.com/github/srikarraju/GridWorld/blob/main/Natural_Actor_Critic_2.ipynb\" target=\"_parent\"><img src=\"https://colab.research.google.com/assets/colab-badge.svg\" alt=\"Open In Colab\"/></a>"
      ]
    },
    {
      "cell_type": "code",
      "metadata": {
        "id": "O5DrzYCjcskG"
      },
      "source": [
        "import torch\n",
        "import torch.nn as nn\n",
        "import torch.nn.functional as F\n",
        "from torch.distributions import Categorical\n",
        "import gym\n",
        "from collections import deque\n",
        "import numpy as np"
      ],
      "execution_count": null,
      "outputs": []
    },
    {
      "cell_type": "code",
      "metadata": {
        "id": "kRagnDlvjz3E"
      },
      "source": [
        "def generate_state_action_features(state_vec, d,num_actions):\n",
        "  state_action_features = np.zeros(shape=(num_actions,d+num_actions))\n",
        "  for i in range(num_actions):\n",
        "    for j in range(d):\n",
        "      state_action_features[i][j] = state_vec[j]\n",
        "  state_action_features[0][d] = 1\n",
        "  state_action_features[1][d+1] =  1\n",
        "  return state_action_features"
      ],
      "execution_count": null,
      "outputs": []
    },
    {
      "cell_type": "code",
      "metadata": {
        "id": "d1A5HeAldTci",
        "colab": {
          "base_uri": "https://localhost:8080/"
        },
        "outputId": "d4422ef2-6812-4ebc-f7e4-e4a681b2b2f3"
      },
      "source": [
        "env = gym.make('CartPole-v0')\n",
        "\n",
        "returns = deque(maxlen=100)\n",
        "weights_v = np.zeros(4,dtype=float)\n",
        "weights_p = np.zeros(6,dtype=float)\n",
        "print(weights_v)\n",
        "print(weights_p)"
      ],
      "execution_count": null,
      "outputs": [
        {
          "output_type": "stream",
          "text": [
            "[0. 0. 0. 0.]\n",
            "[0. 0. 0. 0. 0. 0.]\n"
          ],
          "name": "stdout"
        }
      ]
    },
    {
      "cell_type": "code",
      "metadata": {
        "id": "Li2iufLOfgkX",
        "colab": {
          "base_uri": "https://localhost:8080/",
          "height": 469
        },
        "outputId": "460177f3-f7f6-4bde-a3b4-96bc57258d8f"
      },
      "source": [
        "alpha_0, beta_0, gamma, epsilon = 0.1, 0.01, 0.95, 0.1\n",
        "alpha_c, beta_c = 1000, 1000\n",
        "t = 0\n",
        "n_episode = 1\n",
        "avg_reward = 0\n",
        "actions_list = []\n",
        "fischer_inv = 1.5*np.eye(6)\n",
        "\n",
        "alpha = 0.00001\n",
        "beta = 0.000001\n",
        "\n",
        "while n_episode <=10000:\n",
        "  rewards,states,actions = [],[],[]\n",
        "  state = env.reset()\n",
        "  t = 0\n",
        "\n",
        "  while True:\n",
        "    t += 1\n",
        "    state_action_features =generate_state_action_features(np.asarray(state),4,2)\n",
        "\n",
        "    probs = np.dot(state_action_features,weights_p)\n",
        "    probs -= probs.max()\n",
        "    probs = np.exp(np.clip(probs/epsilon, -500, 500))\n",
        "    probs /= probs.sum()\n",
        "\n",
        "    probs2 = probs.cumsum()\n",
        "    action = np.where(probs2 >= np.random.random())[0][0]\n",
        "\n",
        "    new_state, reward, done, info = env.step(action.item())\n",
        "\n",
        "\n",
        "    value_curr = np.dot(weights_v,np.asarray(state))\n",
        "    value_next = np.dot(weights_v,np.asarray(new_state))\n",
        "\n",
        "    beta = (beta_0 * beta_c) / (beta_c + t)\n",
        "    alpha = (alpha_0 * alpha_c) / (alpha_c + t**(2/3))\n",
        "\n",
        "    avg_reward = (1 - alpha*gamma)*avg_reward + alpha*gamma * reward\n",
        "    td_error = reward + value_next - value_curr - avg_reward\n",
        "\n",
        "    weights_v += alpha * td_error * np.asarray(state)/np.amax(state)\n",
        "\n",
        "    grad_prob = probs[action]*(1-probs[action])*state_action_features[action]/np.amax(state_action_features[action])\n",
        "\n",
        "    Gt_psi_dot = np.dot(fischer_inv, grad_prob)\n",
        "    fischer_inv -= (0.001*alpha * np.outer(Gt_psi_dot,np.transpose(Gt_psi_dot)) ) / (1 - 0.001*alpha + 0.001*alpha * np.dot(grad_prob,Gt_psi_dot))\n",
        "    fischer_inv /= (1 - 0.001*alpha)\n",
        "\n",
        "    weights_p += beta * td_error * np.dot(fischer_inv,grad_prob)\n",
        "\n",
        "    states.append(state)\n",
        "    actions.append(action)\n",
        "    rewards.append(reward)\n",
        "    actions_list.append(action)\n",
        "\n",
        "    state = new_state\n",
        "    if done==True:\n",
        "      break\n",
        "\n",
        "  returns.append(np.sum(rewards))\n",
        "  if n_episode%100==0:\n",
        "    print(\"Episode: {:6d}\\tAvg. Return: {:6.2f}\".format(n_episode, np.mean(returns)))\n",
        "  n_episode += 1\n",
        "\n",
        "env.close()"
      ],
      "execution_count": null,
      "outputs": [
        {
          "output_type": "stream",
          "text": [
            "Episode:    100\tAvg. Return:  11.86\n",
            "Episode:    200\tAvg. Return:   9.34\n",
            "Episode:    300\tAvg. Return:   9.34\n",
            "Episode:    400\tAvg. Return:   9.49\n",
            "Episode:    500\tAvg. Return:   9.52\n",
            "Episode:    600\tAvg. Return:   9.35\n",
            "Episode:    700\tAvg. Return:   9.41\n",
            "Episode:    800\tAvg. Return:   9.25\n",
            "Episode:    900\tAvg. Return:   9.39\n",
            "Episode:   1000\tAvg. Return:   9.40\n",
            "Episode:   1100\tAvg. Return:   9.26\n",
            "Episode:   1200\tAvg. Return:   9.36\n",
            "Episode:   1300\tAvg. Return:   9.23\n"
          ],
          "name": "stdout"
        },
        {
          "output_type": "stream",
          "text": [
            "/usr/local/lib/python3.7/dist-packages/ipykernel_launcher.py:39: RuntimeWarning: invalid value encountered in double_scalars\n"
          ],
          "name": "stderr"
        },
        {
          "output_type": "error",
          "ename": "IndexError",
          "evalue": "ignored",
          "traceback": [
            "\u001b[0;31m---------------------------------------------------------------------------\u001b[0m",
            "\u001b[0;31mIndexError\u001b[0m                                Traceback (most recent call last)",
            "\u001b[0;32m<ipython-input-43-25bd4f470ea4>\u001b[0m in \u001b[0;36m<module>\u001b[0;34m()\u001b[0m\n\u001b[1;32m     25\u001b[0m \u001b[0;34m\u001b[0m\u001b[0m\n\u001b[1;32m     26\u001b[0m     \u001b[0mprobs2\u001b[0m \u001b[0;34m=\u001b[0m \u001b[0mprobs\u001b[0m\u001b[0;34m.\u001b[0m\u001b[0mcumsum\u001b[0m\u001b[0;34m(\u001b[0m\u001b[0;34m)\u001b[0m\u001b[0;34m\u001b[0m\u001b[0;34m\u001b[0m\u001b[0m\n\u001b[0;32m---> 27\u001b[0;31m     \u001b[0maction\u001b[0m \u001b[0;34m=\u001b[0m \u001b[0mnp\u001b[0m\u001b[0;34m.\u001b[0m\u001b[0mwhere\u001b[0m\u001b[0;34m(\u001b[0m\u001b[0mprobs2\u001b[0m \u001b[0;34m>=\u001b[0m \u001b[0mnp\u001b[0m\u001b[0;34m.\u001b[0m\u001b[0mrandom\u001b[0m\u001b[0;34m.\u001b[0m\u001b[0mrandom\u001b[0m\u001b[0;34m(\u001b[0m\u001b[0;34m)\u001b[0m\u001b[0;34m)\u001b[0m\u001b[0;34m[\u001b[0m\u001b[0;36m0\u001b[0m\u001b[0;34m]\u001b[0m\u001b[0;34m[\u001b[0m\u001b[0;36m0\u001b[0m\u001b[0;34m]\u001b[0m\u001b[0;34m\u001b[0m\u001b[0;34m\u001b[0m\u001b[0m\n\u001b[0m\u001b[1;32m     28\u001b[0m \u001b[0;34m\u001b[0m\u001b[0m\n\u001b[1;32m     29\u001b[0m     \u001b[0mnew_state\u001b[0m\u001b[0;34m,\u001b[0m \u001b[0mreward\u001b[0m\u001b[0;34m,\u001b[0m \u001b[0mdone\u001b[0m\u001b[0;34m,\u001b[0m \u001b[0minfo\u001b[0m \u001b[0;34m=\u001b[0m \u001b[0menv\u001b[0m\u001b[0;34m.\u001b[0m\u001b[0mstep\u001b[0m\u001b[0;34m(\u001b[0m\u001b[0maction\u001b[0m\u001b[0;34m.\u001b[0m\u001b[0mitem\u001b[0m\u001b[0;34m(\u001b[0m\u001b[0;34m)\u001b[0m\u001b[0;34m)\u001b[0m\u001b[0;34m\u001b[0m\u001b[0;34m\u001b[0m\u001b[0m\n",
            "\u001b[0;31mIndexError\u001b[0m: index 0 is out of bounds for axis 0 with size 0"
          ]
        }
      ]
    },
    {
      "cell_type": "code",
      "metadata": {
        "colab": {
          "base_uri": "https://localhost:8080/"
        },
        "id": "vTFxJQWBp8mH",
        "outputId": "20eae9d0-3613-4abf-82a9-7eed85231c39"
      },
      "source": [
        "print(weights_p)"
      ],
      "execution_count": null,
      "outputs": [
        {
          "output_type": "stream",
          "text": [
            "[nan nan nan nan nan nan]\n"
          ],
          "name": "stdout"
        }
      ]
    },
    {
      "cell_type": "code",
      "metadata": {
        "colab": {
          "base_uri": "https://localhost:8080/"
        },
        "id": "mHKxJq1kJ6N5",
        "outputId": "3c7fe6ac-e37f-4cff-faa1-65ef763d33da"
      },
      "source": [
        "print(np.outer(Gt_psi_dot,np.transpose(Gt_psi_dot)))"
      ],
      "execution_count": null,
      "outputs": [
        {
          "output_type": "stream",
          "text": [
            "[[ 4.06892924e+33 -4.42195146e+32  4.18739412e+33 -7.34078041e+32\n",
            "  -2.87071525e+17]\n",
            " [-4.42195146e+32  4.80560206e+31 -4.55069441e+32  7.97766999e+31\n",
            "   3.11977986e+16]\n",
            " [ 4.18739412e+33 -4.55069441e+32  4.30930805e+33 -7.55450364e+32\n",
            "  -2.95429471e+17]\n",
            " [-7.34078041e+32  7.97766999e+31 -7.55450364e+32  1.32435474e+32\n",
            "   5.17907514e+16]\n",
            " [-2.87071525e+17  3.11977986e+16 -2.95429471e+17  5.17907514e+16\n",
            "   2.02535005e+01]]\n"
          ],
          "name": "stdout"
        }
      ]
    }
  ]
}