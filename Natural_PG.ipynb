{
  "nbformat": 4,
  "nbformat_minor": 0,
  "metadata": {
    "colab": {
      "provenance": [],
      "authorship_tag": "ABX9TyN1dtZGn54pectTxGUnzThq",
      "include_colab_link": true
    },
    "kernelspec": {
      "name": "python3",
      "display_name": "Python 3"
    },
    "language_info": {
      "name": "python"
    }
  },
  "cells": [
    {
      "cell_type": "markdown",
      "metadata": {
        "id": "view-in-github",
        "colab_type": "text"
      },
      "source": [
        "<a href=\"https://colab.research.google.com/github/srikarraju/GridWorld/blob/main/Natural_PG.ipynb\" target=\"_parent\"><img src=\"https://colab.research.google.com/assets/colab-badge.svg\" alt=\"Open In Colab\"/></a>"
      ]
    },
    {
      "cell_type": "code",
      "metadata": {
        "id": "tG9cDXYJnPiC"
      },
      "source": [
        "import torch\n",
        "import torch.nn as nn\n",
        "import torch.nn.functional as F\n",
        "from torch.distributions import Categorical\n",
        "import gym\n",
        "from collections import deque\n",
        "import numpy as np"
      ],
      "execution_count": null,
      "outputs": []
    },
    {
      "cell_type": "code",
      "metadata": {
        "id": "eP9V2nGCnAl7"
      },
      "source": [
        "class policy_net(nn.Module):\n",
        "  def __init__(self,state_dim,hidden_dim,action_dim):\n",
        "    super(policy_net,self).__init__()\n",
        "    self.h = nn.Linear(state_dim,hidden_dim)\n",
        "    self.out = nn.Linear(hidden_dim,action_dim)\n",
        "\n",
        "  def forward(self,x):\n",
        "    x = F.relu(self.h(x))\n",
        "    x = F.softmax(self.out(x),dim=1)\n",
        "    return x\n",
        "\n",
        "class value_net(nn.Module):\n",
        "  def __init__(self,state_dim,hidden_dim,action_dim):\n",
        "    super(value_net,self).__init__()\n",
        "    self.h = nn.Linear(state_dim,hidden_dim)\n",
        "    self.out = nn.Linear(hidden_dim,1)\n",
        "\n",
        "  def forward(self,x):\n",
        "    x = F.relu(self.h(x))\n",
        "    x = self.out(x)\n",
        "    return x"
      ],
      "execution_count": null,
      "outputs": []
    },
    {
      "cell_type": "code",
      "metadata": {
        "id": "QGE5D4vemU5p"
      },
      "source": [
        "env = gym.make('CartPole-v0')\n",
        "policy = policy_net(env.observation_space.shape[0],100,env.action_space.n)\n",
        "value_fn = value_net(env.observation_space.shape[0],100,env.action_space.n)\n",
        "optimizer1 = torch.optim.Adam(policy.parameters())\n",
        "optimizer2 = torch.optim.Adam(value_fn.parameters())\n",
        "gamma = 0.99\n",
        "alpha = 0.01\n",
        "returns = deque(maxlen=100)"
      ],
      "execution_count": null,
      "outputs": []
    },
    {
      "cell_type": "code",
      "metadata": {
        "id": "4BzXrI9dnXqk",
        "colab": {
          "base_uri": "https://localhost:8080/",
          "height": 867
        },
        "outputId": "520253cc-0494-4901-8a72-112986e216d2"
      },
      "source": [
        "n_episode = 1\n",
        "returns,losses = [], []\n",
        "while n_episode < 5000:\n",
        "  state = env.reset()\n",
        "  rewards, states, actions = [], [], []\n",
        "  while True:\n",
        "    probs = policy(torch.tensor(state).unsqueeze(0).float())\n",
        "    sampler = Categorical(probs)\n",
        "    action = sampler.sample()\n",
        "\n",
        "    new_state, reward, done, info = env.step(action.item())\n",
        "\n",
        "    states.append(state)\n",
        "    actions.append(action)\n",
        "    rewards.append(reward)\n",
        "\n",
        "    state = new_state\n",
        "    if done == True:\n",
        "      break\n",
        "\n",
        "  rewards = np.array(rewards)\n",
        "  R = torch.tensor([np.sum(rewards[i:]*(gamma**np.array(range(0,len(rewards)-i)))) for i in range(len(rewards))]).float()\n",
        "  states = torch.tensor(states).float()\n",
        "  actions = torch.tensor(actions)\n",
        "  state_values = torch.flatten(value_fn(states).float())\n",
        "\n",
        "  probs = policy(states)\n",
        "  sampler = Categorical(probs)\n",
        "  logprobs = -sampler.log_prob(actions)\n",
        "\n",
        "  policy_net_loss = torch.sum(logprobs)\n",
        "  #print(policy_net_loss)\n",
        "  optimizer1.zero_grad()\n",
        "  policy_net_loss.backward()\n",
        "  optimizer1.step()\n",
        "\n",
        "  returns.append(np.sum(rewards))\n",
        "  if n_episode%100==0:\n",
        "    print(\"Episode: {:6d}\\tAvg. Return: {:6.2f}\".format(n_episode, np.mean(returns)))\n",
        "  returns.append(np.mean(returns))\n",
        "  n_episode += 1\n",
        "\n",
        "env.close()\n",
        "\n",
        "\n"
      ],
      "execution_count": null,
      "outputs": [
        {
          "output_type": "stream",
          "text": [
            "Episode:    100\tAvg. Return:  22.65\n",
            "Episode:    200\tAvg. Return:  22.13\n",
            "Episode:    300\tAvg. Return:  21.39\n",
            "Episode:    400\tAvg. Return:  21.27\n",
            "Episode:    500\tAvg. Return:  22.05\n",
            "Episode:    600\tAvg. Return:  23.15\n",
            "Episode:    700\tAvg. Return:  24.02\n",
            "Episode:    800\tAvg. Return:  24.66\n",
            "Episode:    900\tAvg. Return:  25.12\n",
            "Episode:   1000\tAvg. Return:  24.71\n",
            "Episode:   1100\tAvg. Return:  24.20\n",
            "Episode:   1200\tAvg. Return:  23.82\n",
            "Episode:   1300\tAvg. Return:  23.47\n",
            "Episode:   1400\tAvg. Return:  23.12\n",
            "Episode:   1500\tAvg. Return:  22.83\n",
            "Episode:   1600\tAvg. Return:  22.62\n",
            "Episode:   1700\tAvg. Return:  22.68\n",
            "Episode:   1800\tAvg. Return:  22.94\n",
            "Episode:   1900\tAvg. Return:  23.40\n",
            "Episode:   2000\tAvg. Return:  23.93\n",
            "Episode:   2100\tAvg. Return:  24.34\n",
            "Episode:   2200\tAvg. Return:  24.54\n",
            "Episode:   2300\tAvg. Return:  24.59\n",
            "Episode:   2400\tAvg. Return:  24.63\n",
            "Episode:   2500\tAvg. Return:  24.66\n",
            "Episode:   2600\tAvg. Return:  24.88\n",
            "Episode:   2700\tAvg. Return:  24.89\n",
            "Episode:   2800\tAvg. Return:  25.03\n"
          ],
          "name": "stdout"
        },
        {
          "output_type": "error",
          "ename": "KeyboardInterrupt",
          "evalue": "ignored",
          "traceback": [
            "\u001b[0;31m---------------------------------------------------------------------------\u001b[0m",
            "\u001b[0;31mKeyboardInterrupt\u001b[0m                         Traceback (most recent call last)",
            "\u001b[0;32m<ipython-input-4-5ad1fd3370c6>\u001b[0m in \u001b[0;36m<module>\u001b[0;34m()\u001b[0m\n\u001b[1;32m     32\u001b[0m   \u001b[0;31m#print(policy_net_loss)\u001b[0m\u001b[0;34m\u001b[0m\u001b[0;34m\u001b[0m\u001b[0;34m\u001b[0m\u001b[0m\n\u001b[1;32m     33\u001b[0m   \u001b[0moptimizer1\u001b[0m\u001b[0;34m.\u001b[0m\u001b[0mzero_grad\u001b[0m\u001b[0;34m(\u001b[0m\u001b[0;34m)\u001b[0m\u001b[0;34m\u001b[0m\u001b[0;34m\u001b[0m\u001b[0m\n\u001b[0;32m---> 34\u001b[0;31m   \u001b[0mpolicy_net_loss\u001b[0m\u001b[0;34m.\u001b[0m\u001b[0mbackward\u001b[0m\u001b[0;34m(\u001b[0m\u001b[0;34m)\u001b[0m\u001b[0;34m\u001b[0m\u001b[0;34m\u001b[0m\u001b[0m\n\u001b[0m\u001b[1;32m     35\u001b[0m   \u001b[0moptimizer1\u001b[0m\u001b[0;34m.\u001b[0m\u001b[0mstep\u001b[0m\u001b[0;34m(\u001b[0m\u001b[0;34m)\u001b[0m\u001b[0;34m\u001b[0m\u001b[0;34m\u001b[0m\u001b[0m\n\u001b[1;32m     36\u001b[0m \u001b[0;34m\u001b[0m\u001b[0m\n",
            "\u001b[0;32m/usr/local/lib/python3.7/dist-packages/torch/tensor.py\u001b[0m in \u001b[0;36mbackward\u001b[0;34m(self, gradient, retain_graph, create_graph, inputs)\u001b[0m\n\u001b[1;32m    243\u001b[0m                 \u001b[0mcreate_graph\u001b[0m\u001b[0;34m=\u001b[0m\u001b[0mcreate_graph\u001b[0m\u001b[0;34m,\u001b[0m\u001b[0;34m\u001b[0m\u001b[0;34m\u001b[0m\u001b[0m\n\u001b[1;32m    244\u001b[0m                 inputs=inputs)\n\u001b[0;32m--> 245\u001b[0;31m         \u001b[0mtorch\u001b[0m\u001b[0;34m.\u001b[0m\u001b[0mautograd\u001b[0m\u001b[0;34m.\u001b[0m\u001b[0mbackward\u001b[0m\u001b[0;34m(\u001b[0m\u001b[0mself\u001b[0m\u001b[0;34m,\u001b[0m \u001b[0mgradient\u001b[0m\u001b[0;34m,\u001b[0m \u001b[0mretain_graph\u001b[0m\u001b[0;34m,\u001b[0m \u001b[0mcreate_graph\u001b[0m\u001b[0;34m,\u001b[0m \u001b[0minputs\u001b[0m\u001b[0;34m=\u001b[0m\u001b[0minputs\u001b[0m\u001b[0;34m)\u001b[0m\u001b[0;34m\u001b[0m\u001b[0;34m\u001b[0m\u001b[0m\n\u001b[0m\u001b[1;32m    246\u001b[0m \u001b[0;34m\u001b[0m\u001b[0m\n\u001b[1;32m    247\u001b[0m     \u001b[0;32mdef\u001b[0m \u001b[0mregister_hook\u001b[0m\u001b[0;34m(\u001b[0m\u001b[0mself\u001b[0m\u001b[0;34m,\u001b[0m \u001b[0mhook\u001b[0m\u001b[0;34m)\u001b[0m\u001b[0;34m:\u001b[0m\u001b[0;34m\u001b[0m\u001b[0;34m\u001b[0m\u001b[0m\n",
            "\u001b[0;32m/usr/local/lib/python3.7/dist-packages/torch/autograd/__init__.py\u001b[0m in \u001b[0;36mbackward\u001b[0;34m(tensors, grad_tensors, retain_graph, create_graph, grad_variables, inputs)\u001b[0m\n\u001b[1;32m    145\u001b[0m     Variable._execution_engine.run_backward(\n\u001b[1;32m    146\u001b[0m         \u001b[0mtensors\u001b[0m\u001b[0;34m,\u001b[0m \u001b[0mgrad_tensors_\u001b[0m\u001b[0;34m,\u001b[0m \u001b[0mretain_graph\u001b[0m\u001b[0;34m,\u001b[0m \u001b[0mcreate_graph\u001b[0m\u001b[0;34m,\u001b[0m \u001b[0minputs\u001b[0m\u001b[0;34m,\u001b[0m\u001b[0;34m\u001b[0m\u001b[0;34m\u001b[0m\u001b[0m\n\u001b[0;32m--> 147\u001b[0;31m         allow_unreachable=True, accumulate_grad=True)  # allow_unreachable flag\n\u001b[0m\u001b[1;32m    148\u001b[0m \u001b[0;34m\u001b[0m\u001b[0m\n\u001b[1;32m    149\u001b[0m \u001b[0;34m\u001b[0m\u001b[0m\n",
            "\u001b[0;31mKeyboardInterrupt\u001b[0m: "
          ]
        }
      ]
    }
  ]
}