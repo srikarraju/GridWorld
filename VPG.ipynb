{
  "nbformat": 4,
  "nbformat_minor": 0,
  "metadata": {
    "colab": {
      "provenance": [],
      "authorship_tag": "ABX9TyNOYmWsZm4788mVU+V0Yg0e",
      "include_colab_link": true
    },
    "kernelspec": {
      "name": "python3",
      "display_name": "Python 3"
    }
  },
  "cells": [
    {
      "cell_type": "markdown",
      "metadata": {
        "id": "view-in-github",
        "colab_type": "text"
      },
      "source": [
        "<a href=\"https://colab.research.google.com/github/srikarraju/GridWorld/blob/main/VPG.ipynb\" target=\"_parent\"><img src=\"https://colab.research.google.com/assets/colab-badge.svg\" alt=\"Open In Colab\"/></a>"
      ]
    },
    {
      "cell_type": "code",
      "metadata": {
        "id": "qj2RjqxDwkoV"
      },
      "source": [
        "import torch\n",
        "import torch.nn as nn\n",
        "import torch.nn.functional as F\n",
        "from torch.distributions import Categorical\n",
        "import gym\n",
        "from collections import deque\n",
        "import numpy as np"
      ],
      "execution_count": null,
      "outputs": []
    },
    {
      "cell_type": "code",
      "metadata": {
        "id": "cj2HiXerw8Na"
      },
      "source": [
        "class policy_net(nn.Module):\n",
        "  def __init__(self,state_dim,hidden_dim,action_dim):\n",
        "    super(policy_net,self).__init__()\n",
        "    self.h = nn.Linear(state_dim,hidden_dim)\n",
        "    self.out = nn.Linear(hidden_dim,action_dim)\n",
        "\n",
        "  def forward(self,x):\n",
        "    x = F.relu(self.h(x))\n",
        "    x = F.softmax(self.out(x),dim=1)\n",
        "    return x"
      ],
      "execution_count": null,
      "outputs": []
    },
    {
      "cell_type": "code",
      "metadata": {
        "id": "ms0iShuUKQAn"
      },
      "source": [
        "class action_value_net(nn.Module):\n",
        "  def __init__(self,state_dim,hidden_dim,action_dim):\n",
        "    super(action_value_net,self).__init__()\n",
        "    self.h = nn.Linear(state_dim,hidden_dim)\n",
        "    self.out = nn.Linear(hidden_dim,action_dim)\n",
        "\n",
        "  def forward(self,x):\n",
        "    x = F.relu(self.h(x))\n",
        "    x = self.out(x)\n",
        "    return x"
      ],
      "execution_count": null,
      "outputs": []
    },
    {
      "cell_type": "code",
      "metadata": {
        "id": "5QsLgMmJyCMM",
        "colab": {
          "base_uri": "https://localhost:8080/",
          "height": 350
        },
        "outputId": "9270ac90-643e-4bd5-c07d-87ba5f596394"
      },
      "source": [
        "env = gym.make('CartPole-v0')\n",
        "policy = policy_net(env.observation_space.shape[0],100,env.action_space.n)\n",
        "action_value_fn = action_value_net(env.observation_space.shape[0],100,env.action_space.n)\n",
        "optimizer1 = torch.optim.Adam(policy.parameters(),lr=0.000005)\n",
        "optimizer2 = torch.optim.Adam(value_fn.parameters(),lr=0.000005)\n",
        "gamma = 0.99\n",
        "returns = deque(maxlen=100)"
      ],
      "execution_count": null,
      "outputs": [
        {
          "output_type": "error",
          "ename": "NameError",
          "evalue": "ignored",
          "traceback": [
            "\u001b[0;31m---------------------------------------------------------------------------\u001b[0m",
            "\u001b[0;31mNameError\u001b[0m                                 Traceback (most recent call last)",
            "\u001b[0;32m<ipython-input-5-a0f9c6b287cc>\u001b[0m in \u001b[0;36m<module>\u001b[0;34m()\u001b[0m\n\u001b[1;32m      1\u001b[0m \u001b[0menv\u001b[0m \u001b[0;34m=\u001b[0m \u001b[0mgym\u001b[0m\u001b[0;34m.\u001b[0m\u001b[0mmake\u001b[0m\u001b[0;34m(\u001b[0m\u001b[0;34m'CartPole-v0'\u001b[0m\u001b[0;34m)\u001b[0m\u001b[0;34m\u001b[0m\u001b[0;34m\u001b[0m\u001b[0m\n\u001b[1;32m      2\u001b[0m \u001b[0mpolicy\u001b[0m \u001b[0;34m=\u001b[0m \u001b[0mpolicy_net\u001b[0m\u001b[0;34m(\u001b[0m\u001b[0menv\u001b[0m\u001b[0;34m.\u001b[0m\u001b[0mobservation_space\u001b[0m\u001b[0;34m.\u001b[0m\u001b[0mshape\u001b[0m\u001b[0;34m[\u001b[0m\u001b[0;36m0\u001b[0m\u001b[0;34m]\u001b[0m\u001b[0;34m,\u001b[0m\u001b[0;36m100\u001b[0m\u001b[0;34m,\u001b[0m\u001b[0menv\u001b[0m\u001b[0;34m.\u001b[0m\u001b[0maction_space\u001b[0m\u001b[0;34m.\u001b[0m\u001b[0mn\u001b[0m\u001b[0;34m)\u001b[0m\u001b[0;34m\u001b[0m\u001b[0;34m\u001b[0m\u001b[0m\n\u001b[0;32m----> 3\u001b[0;31m \u001b[0maction_value_fn\u001b[0m \u001b[0;34m=\u001b[0m \u001b[0maction_value_net\u001b[0m\u001b[0;34m(\u001b[0m\u001b[0menv\u001b[0m\u001b[0;34m.\u001b[0m\u001b[0mobservation_space\u001b[0m\u001b[0;34m.\u001b[0m\u001b[0mshape\u001b[0m\u001b[0;34m[\u001b[0m\u001b[0;36m0\u001b[0m\u001b[0;34m]\u001b[0m\u001b[0;34m,\u001b[0m\u001b[0;36m100\u001b[0m\u001b[0;34m,\u001b[0m\u001b[0menv\u001b[0m\u001b[0;34m.\u001b[0m\u001b[0maction_space\u001b[0m\u001b[0;34m.\u001b[0m\u001b[0mn\u001b[0m\u001b[0;34m)\u001b[0m\u001b[0;34m\u001b[0m\u001b[0;34m\u001b[0m\u001b[0m\n\u001b[0m\u001b[1;32m      4\u001b[0m \u001b[0moptimizer1\u001b[0m \u001b[0;34m=\u001b[0m \u001b[0mtorch\u001b[0m\u001b[0;34m.\u001b[0m\u001b[0moptim\u001b[0m\u001b[0;34m.\u001b[0m\u001b[0mAdam\u001b[0m\u001b[0;34m(\u001b[0m\u001b[0mpolicy\u001b[0m\u001b[0;34m.\u001b[0m\u001b[0mparameters\u001b[0m\u001b[0;34m(\u001b[0m\u001b[0;34m)\u001b[0m\u001b[0;34m,\u001b[0m\u001b[0mlr\u001b[0m\u001b[0;34m=\u001b[0m\u001b[0;36m0.000005\u001b[0m\u001b[0;34m)\u001b[0m\u001b[0;34m\u001b[0m\u001b[0;34m\u001b[0m\u001b[0m\n\u001b[1;32m      5\u001b[0m \u001b[0moptimizer2\u001b[0m \u001b[0;34m=\u001b[0m \u001b[0mtorch\u001b[0m\u001b[0;34m.\u001b[0m\u001b[0moptim\u001b[0m\u001b[0;34m.\u001b[0m\u001b[0mAdam\u001b[0m\u001b[0;34m(\u001b[0m\u001b[0mvalue_fn\u001b[0m\u001b[0;34m.\u001b[0m\u001b[0mparameters\u001b[0m\u001b[0;34m(\u001b[0m\u001b[0;34m)\u001b[0m\u001b[0;34m,\u001b[0m\u001b[0mlr\u001b[0m\u001b[0;34m=\u001b[0m\u001b[0;36m0.000005\u001b[0m\u001b[0;34m)\u001b[0m\u001b[0;34m\u001b[0m\u001b[0;34m\u001b[0m\u001b[0m\n",
            "\u001b[0;32m<ipython-input-3-166c242b0901>\u001b[0m in \u001b[0;36m__init__\u001b[0;34m(self, state_dim, hidden_dim, action_dim)\u001b[0m\n\u001b[1;32m      1\u001b[0m \u001b[0;32mclass\u001b[0m \u001b[0maction_value_net\u001b[0m\u001b[0;34m(\u001b[0m\u001b[0mnn\u001b[0m\u001b[0;34m.\u001b[0m\u001b[0mModule\u001b[0m\u001b[0;34m)\u001b[0m\u001b[0;34m:\u001b[0m\u001b[0;34m\u001b[0m\u001b[0;34m\u001b[0m\u001b[0m\n\u001b[1;32m      2\u001b[0m   \u001b[0;32mdef\u001b[0m \u001b[0m__init__\u001b[0m\u001b[0;34m(\u001b[0m\u001b[0mself\u001b[0m\u001b[0;34m,\u001b[0m\u001b[0mstate_dim\u001b[0m\u001b[0;34m,\u001b[0m\u001b[0mhidden_dim\u001b[0m\u001b[0;34m,\u001b[0m\u001b[0maction_dim\u001b[0m\u001b[0;34m)\u001b[0m\u001b[0;34m:\u001b[0m\u001b[0;34m\u001b[0m\u001b[0;34m\u001b[0m\u001b[0m\n\u001b[0;32m----> 3\u001b[0;31m     \u001b[0msuper\u001b[0m\u001b[0;34m(\u001b[0m\u001b[0mvalue_net\u001b[0m\u001b[0;34m,\u001b[0m\u001b[0mself\u001b[0m\u001b[0;34m)\u001b[0m\u001b[0;34m.\u001b[0m\u001b[0m__init__\u001b[0m\u001b[0;34m(\u001b[0m\u001b[0;34m)\u001b[0m\u001b[0;34m\u001b[0m\u001b[0;34m\u001b[0m\u001b[0m\n\u001b[0m\u001b[1;32m      4\u001b[0m     \u001b[0mself\u001b[0m\u001b[0;34m.\u001b[0m\u001b[0mh\u001b[0m \u001b[0;34m=\u001b[0m \u001b[0mnn\u001b[0m\u001b[0;34m.\u001b[0m\u001b[0mLinear\u001b[0m\u001b[0;34m(\u001b[0m\u001b[0mstate_dim\u001b[0m\u001b[0;34m,\u001b[0m\u001b[0mhidden_dim\u001b[0m\u001b[0;34m)\u001b[0m\u001b[0;34m\u001b[0m\u001b[0;34m\u001b[0m\u001b[0m\n\u001b[1;32m      5\u001b[0m     \u001b[0mself\u001b[0m\u001b[0;34m.\u001b[0m\u001b[0mout\u001b[0m \u001b[0;34m=\u001b[0m \u001b[0mnn\u001b[0m\u001b[0;34m.\u001b[0m\u001b[0mLinear\u001b[0m\u001b[0;34m(\u001b[0m\u001b[0mhidden_dim\u001b[0m\u001b[0;34m,\u001b[0m\u001b[0maction_dim\u001b[0m\u001b[0;34m)\u001b[0m\u001b[0;34m\u001b[0m\u001b[0;34m\u001b[0m\u001b[0m\n",
            "\u001b[0;31mNameError\u001b[0m: name 'value_net' is not defined"
          ]
        }
      ]
    },
    {
      "cell_type": "code",
      "metadata": {
        "id": "Mg62cPW9zH7g",
        "colab": {
          "base_uri": "https://localhost:8080/"
        },
        "outputId": "d9b89ce4-25fa-449b-ab0e-2e47c41aff16"
      },
      "source": [
        "n_episode = 1\n",
        "losses = []\n",
        "reinforce_returns = []\n",
        "#reinforce_baseline_returns = []\n",
        "while n_episode <=5000:\n",
        "  rewards,states,actions,new_states = [],[],[],[]\n",
        "  state = env.reset()\n",
        "  while True:\n",
        "    probs = policy(torch.tensor(state).unsqueeze(0).float())\n",
        "    sampler = Categorical(probs)\n",
        "    action = sampler.sample()\n",
        "    new_state, reward, done, info = env.step(action.item())\n",
        "\n",
        "    states.append(state)\n",
        "    actions.append(action)\n",
        "    rewards.append(reward)\n",
        "    new_states.append(new_state)\n",
        "\n",
        "    state = new_state\n",
        "    if done==True:\n",
        "      break\n",
        "\n",
        "  rewards = np.array(rewards)\n",
        "  R = torch.tensor([np.sum(rewards[i:]*(gamma**np.array(range(0,len(rewards)-i)))) for i in range(len(rewards))]).float()\n",
        "  states = torch.tensor(states).float()\n",
        "  new_states = torch.tensor(states).float()\n",
        "  actions = torch.tensor(actions)\n",
        "  state_action_values = action_value_fn(states)\n",
        "  new_state_values = torch.flatten(value_fn(new_states).float())\n",
        "  advantage_estimates =\n",
        "\n",
        "  probs = policy(states)\n",
        "  sampler = Categorical(probs)\n",
        "  logprobs = -sampler.log_prob(actions)\n",
        "  #pseudo_loss = torch.sum(logprobs*R)\n",
        "\n",
        "\n",
        "  value_net_loss = nn.MSELoss()\n",
        "  value_net_loss = value_net_loss(state_values,R)\n",
        "  #print(policy_net_loss)\n",
        "  #print(value_net_loss)\n",
        "  losses.append(value_net_loss)\n",
        "\n",
        "  optimizer2.zero_grad()\n",
        "  value_net_loss.backward()\n",
        "  optimizer2.step()\n",
        "\n",
        "  new_state_values = new_state_values.detach()\n",
        "  state_values = state_values.detach()\n",
        "  policy_net_loss = torch.sum(logprobs*R)\n",
        "  #policy_net_loss = torch.sum(logprobs*(R-state_values))\n",
        "  optimizer1.zero_grad()\n",
        "  policy_net_loss.backward()\n",
        "  optimizer1.step()\n",
        "\n",
        "  returns.append(np.sum(rewards))\n",
        "  if n_episode%100==0:\n",
        "    print(\"Episode: {:6d}\\tAvg. Return: {:6.2f}\".format(n_episode, np.mean(returns)))\n",
        "  reinforce_returns.append(np.mean(returns))\n",
        "  n_episode += 1\n",
        "\n",
        "env.close()"
      ],
      "execution_count": null,
      "outputs": [
        {
          "output_type": "stream",
          "text": [
            "/usr/local/lib/python3.7/dist-packages/ipykernel_launcher.py:26: UserWarning: To copy construct from a tensor, it is recommended to use sourceTensor.clone().detach() or sourceTensor.clone().detach().requires_grad_(True), rather than torch.tensor(sourceTensor).\n"
          ],
          "name": "stderr"
        },
        {
          "output_type": "stream",
          "text": [
            "Episode:    100\tAvg. Return:  27.91\n",
            "Episode:    200\tAvg. Return:  44.97\n",
            "Episode:    300\tAvg. Return:  61.80\n",
            "Episode:    400\tAvg. Return: 122.15\n",
            "Episode:    500\tAvg. Return: 175.35\n",
            "Episode:    600\tAvg. Return: 170.62\n",
            "Episode:    700\tAvg. Return: 176.82\n",
            "Episode:    800\tAvg. Return: 180.34\n",
            "Episode:    900\tAvg. Return: 193.80\n",
            "Episode:   1000\tAvg. Return: 178.17\n",
            "Episode:   1100\tAvg. Return: 171.42\n",
            "Episode:   1200\tAvg. Return: 186.27\n",
            "Episode:   1300\tAvg. Return: 199.10\n",
            "Episode:   1400\tAvg. Return: 195.02\n",
            "Episode:   1500\tAvg. Return: 200.00\n",
            "Episode:   1600\tAvg. Return: 199.99\n",
            "Episode:   1700\tAvg. Return: 198.79\n",
            "Episode:   1800\tAvg. Return: 187.31\n",
            "Episode:   1900\tAvg. Return: 195.31\n",
            "Episode:   2000\tAvg. Return: 198.00\n",
            "Episode:   2100\tAvg. Return: 199.99\n",
            "Episode:   2200\tAvg. Return: 188.48\n",
            "Episode:   2300\tAvg. Return: 195.97\n",
            "Episode:   2400\tAvg. Return: 199.89\n",
            "Episode:   2500\tAvg. Return: 199.05\n",
            "Episode:   2600\tAvg. Return: 196.77\n",
            "Episode:   2700\tAvg. Return: 198.27\n",
            "Episode:   2800\tAvg. Return: 200.00\n",
            "Episode:   2900\tAvg. Return: 200.00\n",
            "Episode:   3000\tAvg. Return: 200.00\n",
            "Episode:   3100\tAvg. Return: 200.00\n",
            "Episode:   3200\tAvg. Return: 200.00\n",
            "Episode:   3300\tAvg. Return: 200.00\n",
            "Episode:   3400\tAvg. Return: 200.00\n",
            "Episode:   3500\tAvg. Return: 200.00\n",
            "Episode:   3600\tAvg. Return: 200.00\n",
            "Episode:   3700\tAvg. Return: 198.71\n",
            "Episode:   3800\tAvg. Return: 197.26\n",
            "Episode:   3900\tAvg. Return: 200.00\n",
            "Episode:   4000\tAvg. Return: 200.00\n",
            "Episode:   4100\tAvg. Return: 200.00\n",
            "Episode:   4200\tAvg. Return: 200.00\n",
            "Episode:   4300\tAvg. Return: 200.00\n",
            "Episode:   4400\tAvg. Return: 198.84\n",
            "Episode:   4500\tAvg. Return: 199.65\n",
            "Episode:   4600\tAvg. Return: 200.00\n",
            "Episode:   4700\tAvg. Return: 200.00\n",
            "Episode:   4800\tAvg. Return: 200.00\n",
            "Episode:   4900\tAvg. Return: 200.00\n",
            "Episode:   5000\tAvg. Return: 200.00\n"
          ],
          "name": "stdout"
        }
      ]
    }
  ]
}