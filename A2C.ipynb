{
  "nbformat": 4,
  "nbformat_minor": 0,
  "metadata": {
    "colab": {
      "provenance": [],
      "authorship_tag": "ABX9TyNyrnArUyrxjGHUxCsYj7dz",
      "include_colab_link": true
    },
    "kernelspec": {
      "name": "python3",
      "display_name": "Python 3"
    },
    "language_info": {
      "name": "python"
    }
  },
  "cells": [
    {
      "cell_type": "markdown",
      "metadata": {
        "id": "view-in-github",
        "colab_type": "text"
      },
      "source": [
        "<a href=\"https://colab.research.google.com/github/srikarraju/GridWorld/blob/main/A2C.ipynb\" target=\"_parent\"><img src=\"https://colab.research.google.com/assets/colab-badge.svg\" alt=\"Open In Colab\"/></a>"
      ]
    },
    {
      "cell_type": "code",
      "metadata": {
        "id": "7NMffYef3V8q"
      },
      "source": [
        "import sys\n",
        "import torch\n",
        "import gym\n",
        "import numpy as np\n",
        "import torch.nn as nn\n",
        "import torch.optim as optim\n",
        "import torch.nn.functional as F\n",
        "from torch.autograd import Variable\n",
        "import matplotlib.pyplot as plt\n",
        "import pandas as pd\n",
        "from collections import deque\n",
        "\n",
        "# hyperparameters\n",
        "hidden_size = 256\n",
        "learning_rate = 3e-4\n",
        "\n",
        "# Constants\n",
        "GAMMA = 0.99\n",
        "num_steps = 300\n",
        "max_episodes = 3000"
      ],
      "execution_count": null,
      "outputs": []
    },
    {
      "cell_type": "code",
      "metadata": {
        "id": "fDoXvagR3axM"
      },
      "source": [
        "class ActorCritic(nn.Module):\n",
        "    def __init__(self, num_inputs, num_actions, hidden_size, learning_rate=3e-4):\n",
        "        super(ActorCritic, self).__init__()\n",
        "\n",
        "        self.num_actions = num_actions\n",
        "        self.critic_linear1 = nn.Linear(num_inputs, hidden_size)\n",
        "        self.critic_linear2 = nn.Linear(hidden_size, 1)\n",
        "\n",
        "        self.actor_linear1 = nn.Linear(num_inputs, hidden_size)\n",
        "        self.actor_linear2 = nn.Linear(hidden_size, num_actions)\n",
        "\n",
        "    def forward(self, state):\n",
        "        state = Variable(torch.from_numpy(state).float().unsqueeze(0))\n",
        "        value = F.relu(self.critic_linear1(state))\n",
        "        value = self.critic_linear2(value)\n",
        "\n",
        "        policy_dist = F.relu(self.actor_linear1(state))\n",
        "        policy_dist = F.softmax(self.actor_linear2(policy_dist), dim=1)\n",
        "\n",
        "        return value, policy_dist"
      ],
      "execution_count": null,
      "outputs": []
    },
    {
      "cell_type": "code",
      "metadata": {
        "id": "neAErKhZ3bhr"
      },
      "source": [
        "def a2c(env):\n",
        "    num_inputs = env.observation_space.shape[0]\n",
        "    num_outputs = env.action_space.n\n",
        "\n",
        "    actor_critic = ActorCritic(num_inputs, num_outputs, hidden_size)\n",
        "    ac_optimizer = optim.Adam(actor_critic.parameters(), lr=learning_rate)\n",
        "\n",
        "    all_lengths = []\n",
        "    average_lengths = []\n",
        "    all_rewards = []\n",
        "    entropy_term = 0\n",
        "    returns = deque(maxlen=100)\n",
        "    a2c_returns = []\n",
        "    for episode in range(max_episodes):\n",
        "        log_probs = []\n",
        "        values = []\n",
        "        rewards = []\n",
        "\n",
        "        state = env.reset()\n",
        "        for steps in range(num_steps):\n",
        "            value, policy_dist = actor_critic.forward(state)\n",
        "            value = value.detach().numpy()[0,0]\n",
        "            dist = policy_dist.detach().numpy()\n",
        "\n",
        "            action = np.random.choice(num_outputs, p=np.squeeze(dist))\n",
        "            log_prob = torch.log(policy_dist.squeeze(0)[action])\n",
        "            entropy = -np.sum(np.mean(dist) * np.log(dist))\n",
        "            new_state, reward, done, _ = env.step(action)\n",
        "\n",
        "            rewards.append(reward)\n",
        "            values.append(value)\n",
        "            log_probs.append(log_prob)\n",
        "            entropy_term += entropy\n",
        "            state = new_state\n",
        "\n",
        "            if done or steps == num_steps-1:\n",
        "                Qval, _ = actor_critic.forward(new_state)\n",
        "                Qval = Qval.detach().numpy()[0,0]\n",
        "                all_rewards.append(np.sum(rewards))\n",
        "                all_lengths.append(steps)\n",
        "                average_lengths.append(np.mean(all_lengths[-10:]))\n",
        "                if episode % 100 == 0:\n",
        "                    sys.stdout.write(\"episode: {}, reward: {}, total length: {}, average length: {} \\n\".format(episode, np.sum(rewards), steps, average_lengths[-1]))\n",
        "                returns.append(np.sum(rewards))\n",
        "                a2c_returns.append(np.mean(returns))\n",
        "                break\n",
        "\n",
        "        # compute Q values\n",
        "        Qvals = np.zeros_like(values)\n",
        "        for t in reversed(range(len(rewards))):\n",
        "            Qval = rewards[t] + GAMMA * Qval\n",
        "            Qvals[t] = Qval\n",
        "\n",
        "        #update actor critic\n",
        "        values = torch.FloatTensor(values)\n",
        "        Qvals = torch.FloatTensor(Qvals)\n",
        "        log_probs = torch.stack(log_probs)\n",
        "\n",
        "        advantage = Qvals - values\n",
        "        actor_loss = (-log_probs * advantage).mean()\n",
        "        critic_loss = 0.5 * advantage.pow(2).mean()\n",
        "        ac_loss = actor_loss + critic_loss + 0.001 * entropy_term\n",
        "\n",
        "        ac_optimizer.zero_grad()\n",
        "        ac_loss.backward()\n",
        "        ac_optimizer.step()\n",
        "\n",
        "\n",
        "\n",
        "    # Plot results\n",
        "    smoothed_rewards = pd.Series.rolling(pd.Series(all_rewards), 10).mean()\n",
        "    smoothed_rewards = [elem for elem in smoothed_rewards]\n",
        "    # plt.plot(all_rewards)\n",
        "    # plt.plot(smoothed_rewards)\n",
        "    # plt.plot()\n",
        "    # plt.xlabel('Episode')\n",
        "    # plt.ylabel('Reward')\n",
        "    # plt.show()\n",
        "\n",
        "    # plt.plot(all_lengths)\n",
        "    # plt.plot(average_lengths)\n",
        "    # plt.xlabel('Episode')\n",
        "    # plt.ylabel('Episode length')\n",
        "    plt.plot(a2c_returns)\n",
        "    plt.show()"
      ],
      "execution_count": null,
      "outputs": []
    },
    {
      "cell_type": "code",
      "metadata": {
        "colab": {
          "base_uri": "https://localhost:8080/",
          "height": 775
        },
        "id": "gLiui_jv3tiU",
        "outputId": "7ac6dd46-cd39-45b1-84f8-105ffdae1dc7"
      },
      "source": [
        "env = gym.make(\"CartPole-v0\")\n",
        "a2c(env)"
      ],
      "execution_count": null,
      "outputs": [
        {
          "output_type": "stream",
          "text": [
            "episode: 0, reward: 12.0, total length: 11, average length: 11.0 \n",
            "episode: 100, reward: 10.0, total length: 9, average length: 19.5 \n",
            "episode: 200, reward: 22.0, total length: 21, average length: 24.7 \n",
            "episode: 300, reward: 33.0, total length: 32, average length: 31.0 \n",
            "episode: 400, reward: 21.0, total length: 20, average length: 29.7 \n",
            "episode: 500, reward: 62.0, total length: 61, average length: 52.6 \n",
            "episode: 600, reward: 123.0, total length: 122, average length: 70.2 \n",
            "episode: 700, reward: 39.0, total length: 38, average length: 84.6 \n",
            "episode: 800, reward: 200.0, total length: 199, average length: 119.0 \n",
            "episode: 900, reward: 156.0, total length: 155, average length: 142.2 \n",
            "episode: 1000, reward: 135.0, total length: 134, average length: 107.0 \n",
            "episode: 1100, reward: 81.0, total length: 80, average length: 144.3 \n",
            "episode: 1200, reward: 200.0, total length: 199, average length: 189.9 \n",
            "episode: 1300, reward: 189.0, total length: 188, average length: 172.5 \n",
            "episode: 1400, reward: 174.0, total length: 173, average length: 159.9 \n",
            "episode: 1500, reward: 200.0, total length: 199, average length: 156.3 \n",
            "episode: 1600, reward: 200.0, total length: 199, average length: 194.6 \n",
            "episode: 1700, reward: 33.0, total length: 32, average length: 166.6 \n",
            "episode: 1800, reward: 132.0, total length: 131, average length: 180.2 \n",
            "episode: 1900, reward: 35.0, total length: 34, average length: 171.1 \n",
            "episode: 2000, reward: 193.0, total length: 192, average length: 188.5 \n",
            "episode: 2100, reward: 200.0, total length: 199, average length: 164.2 \n",
            "episode: 2200, reward: 200.0, total length: 199, average length: 190.0 \n",
            "episode: 2300, reward: 200.0, total length: 199, average length: 176.2 \n",
            "episode: 2400, reward: 200.0, total length: 199, average length: 156.4 \n",
            "episode: 2500, reward: 167.0, total length: 166, average length: 118.9 \n",
            "episode: 2600, reward: 200.0, total length: 199, average length: 194.9 \n",
            "episode: 2700, reward: 175.0, total length: 174, average length: 159.6 \n",
            "episode: 2800, reward: 130.0, total length: 129, average length: 132.1 \n",
            "episode: 2900, reward: 133.0, total length: 132, average length: 109.3 \n"
          ],
          "name": "stdout"
        },
        {
          "output_type": "display_data",
          "data": {
            "image/png": "[encoded data removed]",
            "text/plain": [
              "<Figure size 432x288 with 1 Axes>"
            ]
          },
          "metadata": {
            "tags": [],
            "needs_background": "light"
          }
        }
      ]
    }
  ]
}